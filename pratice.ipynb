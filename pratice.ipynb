{
 "cells": [
  {
   "cell_type": "code",
   "execution_count": 17,
   "metadata": {},
   "outputs": [],
   "source": [
    "from dputils import scrape as sc\n",
    "from bs4 import BeautifulSoup"
   ]
  },
  {
   "cell_type": "code",
   "execution_count": 18,
   "metadata": {},
   "outputs": [],
   "source": [
    "soup = sc.get_webpage_data('https://www.amazon.com/AmazonBasics-6-Inch-Stainless-Steel-4-Pack/dp/B0812JV4L6/ref=sr_1_1_sspa?crid=1MNRSZBINEA3A&keywords=ruler&qid=1661832448&sprefix=ruler%2Caps%2C129&sr=8-1-spons&spLa=ZW5jcnlwdGVkUXVhbGlmaWVyPUExNTJWQ1VIMEZFTEUmZW5jcnlwdGVkSWQ9QTA4OTIxOTAxV1kyWUlZWk85SFIyJmVuY3J5cHRlZEFkSWQ9QTAxODM3OTFIWkxRNjBTNVVQWE0md2lkZ2V0TmFtZT1zcF9hdGYmYWN0aW9uPWNsaWNrUmVkaXJlY3QmZG9Ob3RMb2dDbGljaz10cnVl&th=1')"
   ]
  },
  {
   "cell_type": "code",
   "execution_count": 19,
   "metadata": {},
   "outputs": [
    {
     "name": "stdout",
     "output_type": "stream",
     "text": [
      "/AmazonBasics-6-Inch-Stainless-Steel-4-Pack/product-reviews/B0812JV4L6/ref=cm_cr_dp_d_show_all_btm?ie=UTF8&reviewerType=all_reviews\n"
     ]
    }
   ],
   "source": [
    "review_link_area = soup.find('div',attrs={'id':'reviews-medley-footer'})\n",
    "all_review_link = review_link_area.find('a').get('href')\n",
    "print(all_review_link)"
   ]
  },
  {
   "cell_type": "code",
   "execution_count": 20,
   "metadata": {},
   "outputs": [
    {
     "name": "stdout",
     "output_type": "stream",
     "text": [
      "https://www.amazon.com/AmazonBasics-6-Inch-Stainless-Steel-4-Pack/product-reviews/B0812JV4L6/ref=cm_cr_dp_d_show_all_btm?ie=UTF8&reviewerType=all_reviews\n"
     ]
    }
   ],
   "source": [
    "final_url = 'https://www.amazon.com' + all_review_link\n",
    "print(final_url)"
   ]
  },
  {
   "cell_type": "code",
   "execution_count": 21,
   "metadata": {},
   "outputs": [],
   "source": [
    "def get_review_link(product_url=\"\", base_url='https://www.amazon.com'):\n",
    "    try:\n",
    "        soup = sc.get_webpage_data(product_url)\n",
    "        review_link_area = sc.extract_one(soup, div={'tag':'div','attrs':{'id':'reviews-medley-footer'},'output':'object'})\n",
    "        all_review_link = review_link_area['div'].find('a').get('href')\n",
    "        return base_url + all_review_link\n",
    "    except Exception as e:\n",
    "        print(e)\n",
    "        return None\n"
   ]
  },
  {
   "cell_type": "code",
   "execution_count": null,
   "metadata": {},
   "outputs": [],
   "source": []
  },
  {
   "cell_type": "code",
   "execution_count": 22,
   "metadata": {},
   "outputs": [],
   "source": [
    "target = {'tag':'div','attrs':{'id':'cm_cr-review_list'}} # the page subpart\n",
    "items= {'tag':'div','attrs':{'class':'a-section review aok-relative'}} # the repeating elements\n",
    "reviewer = {'tag':'span','attrs':{'class':'a-profile-name'}} # the name inside a single repeating element\n",
    "review = {'tag':'span','attrs':{'class':'a-size-base review-text review-text-content'}} # the review inside a single repeating element"
   ]
  },
  {
   "cell_type": "code",
   "execution_count": 23,
   "metadata": {},
   "outputs": [
    {
     "name": "stdout",
     "output_type": "stream",
     "text": [
      "=>>> https://www.amazon.com/AmazonBasics-6-Inch-Stainless-Steel-4-Pack/product-reviews/B0812JV4L6/ref=cm_cr_dp_d_show_all_btm?ie=UTF8&reviewerType=all_reviews&pageNumber=1\n",
      "10 items found\n",
      "All items extracted\n",
      "=>>> https://www.amazon.com/AmazonBasics-6-Inch-Stainless-Steel-4-Pack/product-reviews/B0812JV4L6/ref=cm_cr_dp_d_show_all_btm?ie=UTF8&reviewerType=all_reviews&pageNumber=2\n",
      "10 items found\n",
      "All items extracted\n",
      "=>>> https://www.amazon.com/AmazonBasics-6-Inch-Stainless-Steel-4-Pack/product-reviews/B0812JV4L6/ref=cm_cr_dp_d_show_all_btm?ie=UTF8&reviewerType=all_reviews&pageNumber=3\n",
      "10 items found\n",
      "All items extracted\n",
      "=>>> https://www.amazon.com/AmazonBasics-6-Inch-Stainless-Steel-4-Pack/product-reviews/B0812JV4L6/ref=cm_cr_dp_d_show_all_btm?ie=UTF8&reviewerType=all_reviews&pageNumber=4\n",
      "10 items found\n",
      "All items extracted\n",
      "=>>> https://www.amazon.com/AmazonBasics-6-Inch-Stainless-Steel-4-Pack/product-reviews/B0812JV4L6/ref=cm_cr_dp_d_show_all_btm?ie=UTF8&reviewerType=all_reviews&pageNumber=5\n",
      "10 items found\n",
      "All items extracted\n",
      "=>>> https://www.amazon.com/AmazonBasics-6-Inch-Stainless-Steel-4-Pack/product-reviews/B0812JV4L6/ref=cm_cr_dp_d_show_all_btm?ie=UTF8&reviewerType=all_reviews&pageNumber=6\n",
      "10 items found\n",
      "All items extracted\n",
      "=>>> https://www.amazon.com/AmazonBasics-6-Inch-Stainless-Steel-4-Pack/product-reviews/B0812JV4L6/ref=cm_cr_dp_d_show_all_btm?ie=UTF8&reviewerType=all_reviews&pageNumber=7\n",
      "10 items found\n",
      "All items extracted\n",
      "=>>> https://www.amazon.com/AmazonBasics-6-Inch-Stainless-Steel-4-Pack/product-reviews/B0812JV4L6/ref=cm_cr_dp_d_show_all_btm?ie=UTF8&reviewerType=all_reviews&pageNumber=8\n",
      "8 items found\n",
      "All items extracted\n",
      "=>>> https://www.amazon.com/AmazonBasics-6-Inch-Stainless-Steel-4-Pack/product-reviews/B0812JV4L6/ref=cm_cr_dp_d_show_all_btm?ie=UTF8&reviewerType=all_reviews&pageNumber=9\n",
      "No data found\n",
      "LOG: No more reviews, output is empty\n",
      "78\n"
     ]
    }
   ],
   "source": [
    "page = 1\n",
    "product_url = 'https://www.amazon.com/AmazonBasics-6-Inch-Stainless-Steel-4-Pack/dp/B0812JV4L6/ref=sr_1_1_sspa?crid=1MNRSZBINEA3A&keywords=ruler&qid=1661832448&sprefix=ruler%2Caps%2C129&sr=8-1-spons&spLa=ZW5jcnlwdGVkUXVhbGlmaWVyPUExNTJWQ1VIMEZFTEUmZW5jcnlwdGVkSWQ9QTA4OTIxOTAxV1kyWUlZWk85SFIyJmVuY3J5cHRlZEFkSWQ9QTAxODM3OTFIWkxRNjBTNVVQWE0md2lkZ2V0TmFtZT1zcF9hdGYmYWN0aW9uPWNsaWNrUmVkaXJlY3QmZG9Ob3RMb2dDbGljaz10cnVl&th=1'\n",
    "all_reviews_link = get_review_link(product_url)\n",
    "datalist = []\n",
    "limit = 0\n",
    "while True:\n",
    "    review_link = all_reviews_link + '&pageNumber=' + str(page)\n",
    "    print('=>>>',review_link)\n",
    "    review_soup = sc.get_webpage_data(review_link)\n",
    "    output =sc.extract_many(review_soup, target=target, items=items, reviewer=reviewer, content= review)\n",
    "    if output is None:\n",
    "        print(\"LOG: No more reviews, output is None\")\n",
    "        break\n",
    "    elif len(output) == 0:\n",
    "        print(\"LOG: No more reviews, output is empty\")\n",
    "        break\n",
    "    elif limit > 100:\n",
    "        print(f\"LOG: No more reviews, limit is {limit}\")\n",
    "        break\n",
    "    else:\n",
    "        datalist.extend(output)\n",
    "        page += 1\n",
    "        limit += 1\n",
    "print(len(datalist))"
   ]
  },
  {
   "cell_type": "code",
   "execution_count": null,
   "metadata": {},
   "outputs": [
    {
     "data": {
      "text/plain": [
       "1010"
      ]
     },
     "execution_count": 44,
     "metadata": {},
     "output_type": "execute_result"
    }
   ],
   "source": [
    "len(datalist)"
   ]
  },
  {
   "cell_type": "code",
   "execution_count": null,
   "metadata": {},
   "outputs": [],
   "source": []
  },
  {
   "cell_type": "code",
   "execution_count": 45,
   "metadata": {},
   "outputs": [],
   "source": [
    "import pandas as pd"
   ]
  },
  {
   "cell_type": "code",
   "execution_count": 46,
   "metadata": {},
   "outputs": [
    {
     "data": {
      "text/html": [
       "<div>\n",
       "<style scoped>\n",
       "    .dataframe tbody tr th:only-of-type {\n",
       "        vertical-align: middle;\n",
       "    }\n",
       "\n",
       "    .dataframe tbody tr th {\n",
       "        vertical-align: top;\n",
       "    }\n",
       "\n",
       "    .dataframe thead th {\n",
       "        text-align: right;\n",
       "    }\n",
       "</style>\n",
       "<table border=\"1\" class=\"dataframe\">\n",
       "  <thead>\n",
       "    <tr style=\"text-align: right;\">\n",
       "      <th></th>\n",
       "      <th>reviewer</th>\n",
       "      <th>content</th>\n",
       "    </tr>\n",
       "  </thead>\n",
       "  <tbody>\n",
       "    <tr>\n",
       "      <th>0</th>\n",
       "      <td>K. MURPHY</td>\n",
       "      <td>UPDATE 12-15-2020 - After three weeks, I'm sti...</td>\n",
       "    </tr>\n",
       "    <tr>\n",
       "      <th>1</th>\n",
       "      <td>Try it or DIY it</td>\n",
       "      <td>Beautiful laptop. I’ve upgraded from the MacBo...</td>\n",
       "    </tr>\n",
       "    <tr>\n",
       "      <th>2</th>\n",
       "      <td>Impetigo</td>\n",
       "      <td>I have two MacBook Airs (MBA), a 13\" and a 11,...</td>\n",
       "    </tr>\n",
       "    <tr>\n",
       "      <th>3</th>\n",
       "      <td>Paul K.</td>\n",
       "      <td>Liked:- Long battery life (one charge WILL las...</td>\n",
       "    </tr>\n",
       "    <tr>\n",
       "      <th>4</th>\n",
       "      <td>Adi</td>\n",
       "      <td>I'm a fan of apple products and I like almost ...</td>\n",
       "    </tr>\n",
       "    <tr>\n",
       "      <th>...</th>\n",
       "      <td>...</td>\n",
       "      <td>...</td>\n",
       "    </tr>\n",
       "    <tr>\n",
       "      <th>1005</th>\n",
       "      <td>lynellw</td>\n",
       "      <td>Great purchase</td>\n",
       "    </tr>\n",
       "    <tr>\n",
       "      <th>1006</th>\n",
       "      <td>arlene r.</td>\n",
       "      <td>My first Apple product. So far finding it diff...</td>\n",
       "    </tr>\n",
       "    <tr>\n",
       "      <th>1007</th>\n",
       "      <td>Gautam</td>\n",
       "      <td>Product was broken</td>\n",
       "    </tr>\n",
       "    <tr>\n",
       "      <th>1008</th>\n",
       "      <td>Jus me</td>\n",
       "      <td>My child is taking class on this Laptop</td>\n",
       "    </tr>\n",
       "    <tr>\n",
       "      <th>1009</th>\n",
       "      <td>GRC</td>\n",
       "      <td>THIS COSTS TWICE AS MUCH AS A DELL OR LENOVO C...</td>\n",
       "    </tr>\n",
       "  </tbody>\n",
       "</table>\n",
       "<p>1010 rows × 2 columns</p>\n",
       "</div>"
      ],
      "text/plain": [
       "              reviewer                                            content\n",
       "0            K. MURPHY  UPDATE 12-15-2020 - After three weeks, I'm sti...\n",
       "1     Try it or DIY it  Beautiful laptop. I’ve upgraded from the MacBo...\n",
       "2             Impetigo  I have two MacBook Airs (MBA), a 13\" and a 11,...\n",
       "3              Paul K.  Liked:- Long battery life (one charge WILL las...\n",
       "4                  Adi  I'm a fan of apple products and I like almost ...\n",
       "...                ...                                                ...\n",
       "1005           lynellw                                     Great purchase\n",
       "1006         arlene r.  My first Apple product. So far finding it diff...\n",
       "1007            Gautam                                 Product was broken\n",
       "1008            Jus me            My child is taking class on this Laptop\n",
       "1009               GRC  THIS COSTS TWICE AS MUCH AS A DELL OR LENOVO C...\n",
       "\n",
       "[1010 rows x 2 columns]"
      ]
     },
     "execution_count": 46,
     "metadata": {},
     "output_type": "execute_result"
    }
   ],
   "source": [
    "pd.DataFrame(datalist)"
   ]
  },
  {
   "cell_type": "code",
   "execution_count": 15,
   "metadata": {},
   "outputs": [],
   "source": [
    "soup = sc.get_webpage_data('https://www.amazon.com/AmazonBasics-6-Inch-Stainless-Steel-4-Pack/dp/B0812JV4L6/ref=sr_1_1_sspa?crid=1MNRSZBINEA3A&keywords=ruler&qid=1661832448&sprefix=ruler%2Caps%2C129&sr=8-1-spons&spLa=ZW5jcnlwdGVkUXVhbGlmaWVyPUExNTJWQ1VIMEZFTEUmZW5jcnlwdGVkSWQ9QTA4OTIxOTAxV1kyWUlZWk85SFIyJmVuY3J5cHRlZEFkSWQ9QTAxODM3OTFIWkxRNjBTNVVQWE0md2lkZ2V0TmFtZT1zcF9hdGYmYWN0aW9uPWNsaWNrUmVkaXJlY3QmZG9Ob3RMb2dDbGljaz10cnVl&th=1')\n",
    "review_link_area = sc.extract_one(soup, div={'tag':'div','attrs':{'id':'reviews-medley-footer'},'output':'object'})"
   ]
  },
  {
   "cell_type": "code",
   "execution_count": 16,
   "metadata": {},
   "outputs": [
    {
     "data": {
      "text/plain": [
       "{'div': <div class=\"a-section\" data-hook=\"reviews-medley-footer\" id=\"reviews-medley-footer\"><div class=\"a-row\"></div><div class=\"a-row a-spacing-medium\"><hr aria-hidden=\"true\" class=\"a-spacing-base a-divider-normal\"/><a class=\"a-link-emphasis a-text-bold\" data-hook=\"see-all-reviews-link-foot\" href=\"/AmazonBasics-6-Inch-Stainless-Steel-4-Pack/product-reviews/B0812JV4L6/ref=cm_cr_dp_d_show_all_btm?ie=UTF8&amp;reviewerType=all_reviews\">See all reviews</a></div></div>}"
      ]
     },
     "execution_count": 16,
     "metadata": {},
     "output_type": "execute_result"
    }
   ],
   "source": [
    "review_link_area"
   ]
  },
  {
   "cell_type": "code",
   "execution_count": null,
   "metadata": {},
   "outputs": [],
   "source": []
  }
 ],
 "metadata": {
  "kernelspec": {
   "display_name": "Python 3.9.13 ('base')",
   "language": "python",
   "name": "python3"
  },
  "language_info": {
   "codemirror_mode": {
    "name": "ipython",
    "version": 3
   },
   "file_extension": ".py",
   "mimetype": "text/x-python",
   "name": "python",
   "nbconvert_exporter": "python",
   "pygments_lexer": "ipython3",
   "version": "3.9.13"
  },
  "orig_nbformat": 4,
  "vscode": {
   "interpreter": {
    "hash": "203ec5af3e26acf3e3c83a4183d4b4efe59642f60e2721ccf6236536a59ece46"
   }
  }
 },
 "nbformat": 4,
 "nbformat_minor": 2
}
