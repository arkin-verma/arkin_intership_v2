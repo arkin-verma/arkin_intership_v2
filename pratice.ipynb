{
 "cells": [
  {
   "cell_type": "code",
   "execution_count": 1,
   "metadata": {},
   "outputs": [],
   "source": [
    "from dputils import scrape as sc\n",
    "from bs4 import BeautifulSoup"
   ]
  },
  {
   "cell_type": "code",
   "execution_count": 2,
   "metadata": {},
   "outputs": [],
   "source": [
    "soup = sc.get_webpage_data('https://www.amazon.com/Dell-OptiPlex-Computer-Desktop-Keyboard/dp/B09TN242Q5/ref=cm_cr_arp_d_product_top?ie=UTF8')"
   ]
  },
  {
   "cell_type": "code",
   "execution_count": 3,
   "metadata": {},
   "outputs": [
    {
     "name": "stdout",
     "output_type": "stream",
     "text": [
      "/Dell-OptiPlex-Computer-Desktop-Keyboard/product-reviews/B09TN242Q5/ref=cm_cr_dp_d_show_all_btm?ie=UTF8&reviewerType=all_reviews\n"
     ]
    }
   ],
   "source": [
    "review_link_area = soup.find('div',attrs={'id':'reviews-medley-footer'})\n",
    "all_review_link = review_link_area.find('a').get('href')\n",
    "print(all_review_link)"
   ]
  },
  {
   "cell_type": "code",
   "execution_count": 4,
   "metadata": {},
   "outputs": [
    {
     "name": "stdout",
     "output_type": "stream",
     "text": [
      "https://www.amazon.com/Dell-OptiPlex-Computer-Desktop-Keyboard/product-reviews/B09TN242Q5/ref=cm_cr_dp_d_show_all_btm?ie=UTF8&reviewerType=all_reviews\n"
     ]
    }
   ],
   "source": [
    "final_url = 'https://www.amazon.com' + all_review_link\n",
    "print(final_url)"
   ]
  },
  {
   "cell_type": "code",
   "execution_count": 23,
   "metadata": {},
   "outputs": [],
   "source": [
    "def get_review_link(product_url=\"\", base_url='https://www.amazon.com'):\n",
    "    try:\n",
    "        soup = sc.get_webpage_data(product_url)\n",
    "        review_link_area = sc.extract_one(soup, div={'tag':'div','attrs':{'id':'reviews-medley-footer'},'output':'object'})\n",
    "        all_review_link = review_link_area['div'].find('a').get('href')\n",
    "        return base_url + all_review_link\n",
    "    except Exception as e:\n",
    "        print(e)\n",
    "        return None\n"
   ]
  },
  {
   "cell_type": "code",
   "execution_count": 25,
   "metadata": {},
   "outputs": [],
   "source": [
    "all_review_link = get_review_link('https://www.amazon.com/Eyelashes-Wholesale-Styles-Lashes-Dramatic/dp/B08PB2MDGG/?_encoding=UTF8&pd_rd_w=NRdjR&content-id=amzn1.sym.71571531-43bf-4216-b53a-6edb178959fe&pf_rd_p=71571531-43bf-4216-b53a-6edb178959fe&pf_rd_r=TZY732N6N5S3SS8GW9VX&pd_rd_wg=kGaSd&pd_rd_r=e9bad92b-29c9-48a0-9952-738ea794919b&ref_=pd_gw_trq_ed_8m7ktlco')"
   ]
  },
  {
   "cell_type": "code",
   "execution_count": 26,
   "metadata": {},
   "outputs": [
    {
     "name": "stdout",
     "output_type": "stream",
     "text": [
      "<title>Amazon.com: Customer reviews: 30 Pairs 20MM False Eyelashes Wholesale 6 Styles Mixed Lashes 8D Fluffy Volume Dramatic Faux Mink Eyelashes Pack</title>\n"
     ]
    }
   ],
   "source": [
    "review_soup = sc.get_webpage_data(all_review_link)\n",
    "print(review_soup.find('title'))"
   ]
  },
  {
   "cell_type": "code",
   "execution_count": 8,
   "metadata": {},
   "outputs": [
    {
     "name": "stdout",
     "output_type": "stream",
     "text": [
      "\u001b[1;31mSignature:\u001b[0m \u001b[0msc\u001b[0m\u001b[1;33m.\u001b[0m\u001b[0mextract_many\u001b[0m\u001b[1;33m(\u001b[0m\u001b[0msoup\u001b[0m\u001b[1;33m:\u001b[0m \u001b[0mbs4\u001b[0m\u001b[1;33m.\u001b[0m\u001b[0mBeautifulSoup\u001b[0m\u001b[1;33m,\u001b[0m \u001b[1;33m**\u001b[0m\u001b[0mselectors\u001b[0m\u001b[1;33m)\u001b[0m \u001b[1;33m->\u001b[0m \u001b[0mlist\u001b[0m\u001b[1;33m\u001b[0m\u001b[1;33m\u001b[0m\u001b[0m\n",
      "\u001b[1;31mDocstring:\u001b[0m\n",
      "Extracts several data items from given BeautifulSoup object\n",
      "Output will be a list containing dicts of {title : data_stored_in_selectors}\n",
      "\n",
      "Args:\n",
      "`soup` (BeautifulSoup): Contains entire page data as BeautifulSoup object. Data items will be extracted from this object\n",
      "\n",
      "`**selectors` (dict): dict of {key : info}\n",
      "    \n",
      "#### info must be written in following manner:\n",
      "\n",
      "- first key is 'tag' with value as tag from where data is obtained\n",
      "\n",
      "- second key is 'attrs' with value as dict containing id or class information\n",
      "\n",
      "- third key is 'output': which specifies type of data recieved: text, href or src\n",
      "\n",
      "#### Valid Examples:\n",
      "```\n",
      "title =  {'tag' : 'h2', 'attrs' : {'class':'a-size-mini a-spacing-none a-color-base s-line-clamp-2'}, output = 'text'}\n",
      "priceDict = {'tag' : 'span', 'attrs' : {'class' : 'a-price-whole'}, output = 'text'}\n",
      "```\n",
      "\n",
      "target is a special selector and can be added to specify which section of html code should data be extracted from\n",
      "\n",
      "#### Example of target use:\n",
      "```\n",
      "target = {'tag' : 'div', 'attrs' : {'class':'s-main-slot s-result-list s-search-results sg-row'}, output = 'text'}\n",
      "```\n",
      "#### items is a mandatory selector which refers to the repeating blocks of html code from soup object\n",
      "\n",
      "Example of item use:\n",
      "```\n",
      "items =  {'tag' : 'div', 'attrs' : {'class':'s-result-item'}, output = 'text'}\n",
      "```\n",
      "#### Valid call: \n",
      "```\n",
      "soup = get_webpage_data(\"https://www.amazon.com/s?k=headphones&crid=1DUUWW6PEVAJ1&sprefix=headphones%2Caps%2C161&ref=nb_sb_noss_1\")\n",
      "extract_many(soup, \n",
      "        target = {'tag' : 'div', 'attrs' : {'class':'s-main-slot s-result-list s-search-results sg-row'}, output = 'text'},\n",
      "        items =  {'tag' : 'div', 'attrs' : {'class':'s-result-item'}, output = 'text'},\n",
      "        title =  {'tag' : 'h2', 'attrs' : {'class':'a-size-mini a-spacing-none a-color-base s-line-clamp-2'}, output = 'text'})\n",
      "```\n",
      "\u001b[1;31mFile:\u001b[0m      c:\\users\\zaid\\miniconda\\lib\\site-packages\\dputils\\scrape.py\n",
      "\u001b[1;31mType:\u001b[0m      function\n"
     ]
    }
   ],
   "source": [
    "sc.extract_many?"
   ]
  },
  {
   "cell_type": "code",
   "execution_count": 9,
   "metadata": {},
   "outputs": [],
   "source": [
    "target = {'tag':'div','attrs':{'id':'cm_cr-review_list'}} # the page subpart\n",
    "items= {'tag':'div','attrs':{'class':'a-section review aok-relative'}} # the repeating elements\n",
    "reviewer = {'tag':'span','attrs':{'class':'a-profile-name'}} # the name inside a single repeating element\n",
    "review = {'tag':'span','attrs':{'class':'a-size-base review-text review-text-content'}} # the review inside a single repeating element"
   ]
  },
  {
   "cell_type": "code",
   "execution_count": 10,
   "metadata": {},
   "outputs": [
    {
     "name": "stdout",
     "output_type": "stream",
     "text": [
      "10 items found\n",
      "All items extracted\n"
     ]
    }
   ],
   "source": [
    "output =sc.extract_many(review_soup, target=target, items=items, reviewer=reviewer, content= review)"
   ]
  },
  {
   "cell_type": "code",
   "execution_count": 11,
   "metadata": {},
   "outputs": [],
   "source": [
    "import pandas as pd"
   ]
  },
  {
   "cell_type": "code",
   "execution_count": 12,
   "metadata": {},
   "outputs": [
    {
     "data": {
      "text/html": [
       "<div>\n",
       "<style scoped>\n",
       "    .dataframe tbody tr th:only-of-type {\n",
       "        vertical-align: middle;\n",
       "    }\n",
       "\n",
       "    .dataframe tbody tr th {\n",
       "        vertical-align: top;\n",
       "    }\n",
       "\n",
       "    .dataframe thead th {\n",
       "        text-align: right;\n",
       "    }\n",
       "</style>\n",
       "<table border=\"1\" class=\"dataframe\">\n",
       "  <thead>\n",
       "    <tr style=\"text-align: right;\">\n",
       "      <th></th>\n",
       "      <th>reviewer</th>\n",
       "      <th>content</th>\n",
       "    </tr>\n",
       "  </thead>\n",
       "  <tbody>\n",
       "    <tr>\n",
       "      <th>0</th>\n",
       "      <td>Kat</td>\n",
       "      <td>The media could not be loaded.\\n              ...</td>\n",
       "    </tr>\n",
       "    <tr>\n",
       "      <th>1</th>\n",
       "      <td>Alexis C.</td>\n",
       "      <td>I absolutely was blown away there actually rea...</td>\n",
       "    </tr>\n",
       "    <tr>\n",
       "      <th>2</th>\n",
       "      <td>kathleen villegas</td>\n",
       "      <td>I absolutely love these easy to use super affo...</td>\n",
       "    </tr>\n",
       "    <tr>\n",
       "      <th>3</th>\n",
       "      <td>JoJo 😉</td>\n",
       "      <td>The media could not be loaded.\\n              ...</td>\n",
       "    </tr>\n",
       "    <tr>\n",
       "      <th>4</th>\n",
       "      <td>lisalforce</td>\n",
       "      <td>The media could not be loaded.\\n              ...</td>\n",
       "    </tr>\n",
       "    <tr>\n",
       "      <th>5</th>\n",
       "      <td>Genessee</td>\n",
       "      <td>The media could not be loaded.\\n              ...</td>\n",
       "    </tr>\n",
       "    <tr>\n",
       "      <th>6</th>\n",
       "      <td>Sara Carrasco</td>\n",
       "      <td>Ok these lashes are not what I'm used to, they...</td>\n",
       "    </tr>\n",
       "    <tr>\n",
       "      <th>7</th>\n",
       "      <td>samantha</td>\n",
       "      <td>OMG IN LOVE!!! i’ve always gotten Kiss lashes ...</td>\n",
       "    </tr>\n",
       "    <tr>\n",
       "      <th>8</th>\n",
       "      <td>Sequoia Hammel</td>\n",
       "      <td>I love these ladies! Different styles of lashe...</td>\n",
       "    </tr>\n",
       "    <tr>\n",
       "      <th>9</th>\n",
       "      <td>Ali</td>\n",
       "      <td>The media could not be loaded.\\n              ...</td>\n",
       "    </tr>\n",
       "  </tbody>\n",
       "</table>\n",
       "</div>"
      ],
      "text/plain": [
       "            reviewer                                            content\n",
       "0                Kat  The media could not be loaded.\\n              ...\n",
       "1          Alexis C.  I absolutely was blown away there actually rea...\n",
       "2  kathleen villegas  I absolutely love these easy to use super affo...\n",
       "3             JoJo 😉  The media could not be loaded.\\n              ...\n",
       "4         lisalforce  The media could not be loaded.\\n              ...\n",
       "5           Genessee  The media could not be loaded.\\n              ...\n",
       "6      Sara Carrasco  Ok these lashes are not what I'm used to, they...\n",
       "7           samantha  OMG IN LOVE!!! i’ve always gotten Kiss lashes ...\n",
       "8     Sequoia Hammel  I love these ladies! Different styles of lashe...\n",
       "9                Ali  The media could not be loaded.\\n              ..."
      ]
     },
     "execution_count": 12,
     "metadata": {},
     "output_type": "execute_result"
    }
   ],
   "source": [
    "pd.DataFrame(output)"
   ]
  },
  {
   "cell_type": "code",
   "execution_count": null,
   "metadata": {},
   "outputs": [],
   "source": []
  }
 ],
 "metadata": {
  "kernelspec": {
   "display_name": "Python 3.9.13 ('base')",
   "language": "python",
   "name": "python3"
  },
  "language_info": {
   "codemirror_mode": {
    "name": "ipython",
    "version": 3
   },
   "file_extension": ".py",
   "mimetype": "text/x-python",
   "name": "python",
   "nbconvert_exporter": "python",
   "pygments_lexer": "ipython3",
   "version": "3.9.13"
  },
  "orig_nbformat": 4,
  "vscode": {
   "interpreter": {
    "hash": "203ec5af3e26acf3e3c83a4183d4b4efe59642f60e2721ccf6236536a59ece46"
   }
  }
 },
 "nbformat": 4,
 "nbformat_minor": 2
}
